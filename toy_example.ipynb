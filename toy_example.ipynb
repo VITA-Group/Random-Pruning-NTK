{
  "nbformat": 4,
  "nbformat_minor": 0,
  "metadata": {
    "colab": {
      "name": "toy_example.ipynb",
      "provenance": [],
      "collapsed_sections": [
        "u2573lvLp2sR",
        "ZDK67CGsqAqb"
      ]
    },
    "kernelspec": {
      "name": "python3",
      "display_name": "Python 3"
    },
    "language_info": {
      "name": "python"
    }
  },
  "cells": [
    {
      "cell_type": "markdown",
      "source": [
        "# Standard Parameterization (Depreciated)"
      ],
      "metadata": {
        "id": "u2573lvLp2sR"
      }
    },
    {
      "cell_type": "code",
      "execution_count": null,
      "metadata": {
        "colab": {
          "base_uri": "https://localhost:8080/"
        },
        "id": "W5LF1ylsbNMF",
        "outputId": "4593d73c-4d53-480f-9144-fbbfddc0d02e"
      },
      "outputs": [
        {
          "output_type": "stream",
          "name": "stdout",
          "text": [
            "tensor(0.1977)\n",
            "tensor(0.1950)\n"
          ]
        }
      ],
      "source": [
        "import torch\n",
        "import torch.nn as nn\n",
        "import torch.nn.functional as F\n",
        "import numpy as np\n",
        "import numpy.linalg as la\n",
        "\n",
        "class Model(nn.Module):\n",
        "    def __init__(self, width):\n",
        "        super(Model, self).__init__()\n",
        "\n",
        "        input_size = 10\n",
        "        layers = [nn.Linear(input_size, width, bias=False), nn.Linear(width,width, bias=False), nn.Linear(width, width, bias=False)]\n",
        "        \n",
        "        self.fc_layers = nn.ModuleList(layers)\n",
        "        self.fc = nn.Linear(width, 1, bias=False)\n",
        "        \n",
        "        for m in self.modules():\n",
        "          if isinstance(m, nn.Conv2d) or isinstance(m, nn.Linear):\n",
        "            nn.init.kaiming_normal_(m.weight, nonlinearity = 'relu')\n",
        "\n",
        "    def forward(self, x):\n",
        "        for layer in self.fc_layers:\n",
        "            x = F.relu(layer(x))\n",
        "\n",
        "        return self.fc(x)\n",
        "\n",
        "class Pruned_Model(nn.Module):\n",
        "    def __init__(self, width, mask):\n",
        "        super(Pruned_Model, self).__init__()\n",
        "\n",
        "        self.mask = mask\n",
        "        input_size = 10\n",
        "        layers = [nn.Linear(input_size, width, bias=False), nn.Linear(width,width, bias=False), nn.Linear(width, width, bias=False)]\n",
        "        \n",
        "        self.fc_layers = nn.ModuleList(layers)\n",
        "        self.fc = nn.Linear(width, 1, bias=False)\n",
        "        \n",
        "        for m in self.modules():\n",
        "          if isinstance(m, nn.Conv2d) or isinstance(m, nn.Linear):\n",
        "            nn.init.kaiming_normal_(m.weight, nonlinearity = 'relu')\n",
        "        self._apply_mask()\n",
        "\n",
        "    def forward(self, x):\n",
        "        self._apply_zero_one_mask()\n",
        "        for layer in self.fc_layers:\n",
        "            x = F.relu(layer(x))\n",
        "\n",
        "        return self.fc(x)\n",
        "\n",
        "    def _apply_mask(self):\n",
        "        for name, param in self.named_parameters():\n",
        "            if name in self.mask:\n",
        "              param.data *= self.mask[name]\n",
        "\n",
        "    def _apply_zero_one_mask(self):\n",
        "        for name, param in self.named_parameters():\n",
        "            if name in self.mask:\n",
        "              param.data *= self.mask[name] > 0\n",
        "\n",
        "pruning_fraction = 1/2\n",
        "width = 5000\n",
        "model = Model(width)\n",
        "mask = {}\n",
        "for name, param in model.named_parameters():\n",
        "  if name == \"fc_layers.0.weight\":\n",
        "    mask[name] = torch.ones(param.shape)\n",
        "  else:\n",
        "    mask[name] = torch.from_numpy(np.random.choice([0,1 / np.sqrt(1 - pruning_fraction)], param.shape, p=[pruning_fraction, 1 - pruning_fraction]))\n",
        "\n",
        "pruned_model = Pruned_Model(width, mask)\n",
        "\n",
        "np.random.seed(1)\n",
        "x = np.random.random(10)\n",
        "x = x / la.norm(x)\n",
        "x = torch.from_numpy(x).float()\n",
        "y = np.random.random(10)\n",
        "y = y / la.norm(y)\n",
        "y = torch.from_numpy(y).float()\n",
        "\n",
        "# out_x = model(x)\n",
        "# out_x.backward()\n",
        "\n",
        "# estimate = 0\n",
        "# for m in model.modules():\n",
        "#   if isinstance(m, nn.Linear):\n",
        "#     estimate += torch.square(torch.norm(m.weight.grad))\n",
        "# print(estimate/width)\n",
        "\n",
        "\n",
        "# pruned_out_x = pruned_model(x)\n",
        "# pruned_out_x.backward()\n",
        "# pruned_estimate = 0\n",
        "# for m in pruned_model.named_modules():\n",
        "#   if isinstance(m[1], nn.Linear):\n",
        "#     pruned_estimate += torch.square(torch.norm(m[1].weight.grad * ( mask[m[0] + \".weight\"] > 0))) \n",
        "\n",
        "# print(pruned_estimate/(width * (1 - pruning_fraction)))\n",
        "# print(mask)\n",
        "out_x = model(x)\n",
        "out_x.backward()\n",
        "\n",
        "inner_model = 0\n",
        "grad_model_x = []\n",
        "for m in model.modules():\n",
        "  if isinstance(m, nn.Linear):\n",
        "    grad_model_x.append(torch.clone(m.weight.grad).detach())\n",
        "\n",
        "model.zero_grad()\n",
        "out_y = model(y)\n",
        "out_y.backward()\n",
        "\n",
        "grad_model_y = []\n",
        "for m in model.modules():\n",
        "  if isinstance(m, nn.Linear):\n",
        "    grad_model_y.append(torch.clone(m.weight.grad).detach())\n",
        "\n",
        "for i in range(len(grad_model_x)):\n",
        "  inner_model += torch.sum(grad_model_x[i] * grad_model_y[i])\n",
        "print(inner_model/width)\n",
        "\n",
        "pruned_out_x = pruned_model(x)\n",
        "pruned_out_x.backward()\n",
        "inner_pruned = 0\n",
        "grad_pruned_x = []\n",
        "for m in pruned_model.named_modules():\n",
        "  if isinstance(m[1], nn.Linear):\n",
        "    grad_pruned_x.append((torch.clone(m[1].weight.grad).detach() * ( mask[m[0] + \".weight\"] > 0))) \n",
        "\n",
        "pruned_model.zero_grad()\n",
        "pruned_out_y = pruned_model(y)\n",
        "pruned_out_y.backward()\n",
        "inner_pruned = 0\n",
        "grad_pruned_y = []\n",
        "for m in pruned_model.named_modules():\n",
        "  if isinstance(m[1], nn.Linear):\n",
        "    grad_pruned_y.append((torch.clone(m[1].weight.grad).detach() * ( mask[m[0] + \".weight\"] > 0))) \n",
        "\n",
        "for i in range(len(grad_model_x)):\n",
        "  inner_pruned += torch.sum(grad_pruned_x[i] * grad_pruned_y[i])\n",
        "print(inner_pruned/(width* (1 - pruning_fraction)))"
      ]
    },
    {
      "cell_type": "markdown",
      "source": [
        "# Compute Theoretical NTK Value"
      ],
      "metadata": {
        "id": "ZDK67CGsqAqb"
      }
    },
    {
      "cell_type": "code",
      "source": [
        "import numpy as np\n",
        "import numpy.linalg as la\n",
        "\n",
        "def t_sigma(rho):\n",
        "  return (np.sqrt(1 - rho**2) + rho * np.arcsin(rho))/np.pi + rho/2\n",
        "\n",
        "def t_sigma_dot(rho):\n",
        "  return 1/2 + np.arcsin(rho) / np.pi\n",
        "\n",
        "def compute_all_t_sigma(x,y,L):\n",
        "  # L: the number of hidden layer\n",
        "  ret = [np.dot(x,y)]\n",
        "  for i in range(L):\n",
        "    ret.append(t_sigma(ret[-1]))\n",
        "  return ret\n",
        "\n",
        "def compute_all_t_sigma_dot(t_sigmas):\n",
        "  ret = []\n",
        "  for t_sigma in t_sigmas[:-1]:\n",
        "    ret.append(t_sigma_dot(t_sigma))\n",
        "  ret.append(1)\n",
        "  return ret\n",
        "\n",
        "def compute_NTK(x,y,L):\n",
        "  t_sigmas = compute_all_t_sigma(x,y,L)\n",
        "  t_sigma_dots = compute_all_t_sigma_dot(t_sigmas)\n",
        "  ntk = 0\n",
        "  for i in range(len(t_sigmas)):\n",
        "    ntk += t_sigmas[i] * np.prod(t_sigma_dots[i:])\n",
        "  return ntk\n",
        "\n",
        "np.random.seed(1)\n",
        "x = np.random.random(10)\n",
        "x = x / la.norm(x)\n",
        "y = np.random.random(10)\n",
        "y = y / la.norm(y)\n",
        "print(np.inner(x,y))\n",
        "\n",
        "compute_NTK(x,y,3)"
      ],
      "metadata": {
        "id": "VhZYHwp0U-Nv",
        "colab": {
          "base_uri": "https://localhost:8080/"
        },
        "outputId": "40b929ab-7f1d-46c9-8d95-c1c147460344"
      },
      "execution_count": null,
      "outputs": [
        {
          "output_type": "stream",
          "name": "stdout",
          "text": [
            "0.7687972123753375\n"
          ]
        },
        {
          "output_type": "execute_result",
          "data": {
            "text/plain": [
              "2.4287229440232556"
            ]
          },
          "metadata": {},
          "execution_count": 10
        }
      ]
    },
    {
      "cell_type": "markdown",
      "source": [
        "# NTK Parameterization"
      ],
      "metadata": {
        "id": "9rX8pJekqIS_"
      }
    },
    {
      "cell_type": "code",
      "source": [
        "import torch\n",
        "import torch.nn as nn\n",
        "import torch.nn.functional as F\n",
        "import numpy as np\n",
        "import numpy.linalg as la\n",
        "\n",
        "class Model(nn.Module):\n",
        "    def __init__(self, width):\n",
        "        super(Model, self).__init__()\n",
        "\n",
        "        self.width = width\n",
        "        input_size = 10\n",
        "        layers = [nn.Linear(input_size, width, bias=False), nn.Linear(width,width, bias=False), nn.Linear(width, width, bias=False)]\n",
        "        \n",
        "        self.fc_layers = nn.ModuleList(layers)\n",
        "        self.fc = nn.Linear(width, 1, bias=False)\n",
        "        \n",
        "        for m in self.modules():\n",
        "          if isinstance(m, nn.Conv2d) or isinstance(m, nn.Linear):\n",
        "            nn.init.normal_(m.weight)\n",
        "\n",
        "    def forward(self, x):\n",
        "        for layer in self.fc_layers:\n",
        "            x = torch.sqrt(torch.tensor(2 / self.width)) * F.relu(layer(x))\n",
        "\n",
        "        return self.fc(x)\n",
        "\n",
        "class Pruned_Model(nn.Module):\n",
        "    def __init__(self, width, mask, pruning_fraction):\n",
        "        super(Pruned_Model, self).__init__()\n",
        "\n",
        "        self.width = width\n",
        "        self.mask = mask\n",
        "        self.pruning_fraction = pruning_fraction\n",
        "        input_size = 10\n",
        "        layers = [nn.Linear(input_size, width, bias=False), nn.Linear(width,width, bias=False), nn.Linear(width, width, bias=False)]\n",
        "        \n",
        "        self.fc_layers = nn.ModuleList(layers)\n",
        "        self.fc = nn.Linear(width, 1, bias=False)\n",
        "        \n",
        "        for m in self.modules():\n",
        "          if isinstance(m, nn.Conv2d) or isinstance(m, nn.Linear):\n",
        "            nn.init.normal_(m.weight)\n",
        "        self._apply_mask()\n",
        "\n",
        "    def forward(self, x):\n",
        "        self._apply_zero_one_mask()\n",
        "        for layer in self.fc_layers:\n",
        "            x = torch.sqrt(torch.tensor(2 / (self.width * (1 - self.pruning_fraction)))) * F.relu(layer(x))\n",
        "\n",
        "        return self.fc(x)\n",
        "\n",
        "    def _apply_mask(self):\n",
        "        for name, param in self.named_parameters():\n",
        "            if name in self.mask:\n",
        "              param.data *= self.mask[name]\n",
        "\n",
        "    def _apply_zero_one_mask(self):\n",
        "        for name, param in self.named_parameters():\n",
        "            if name in self.mask:\n",
        "              param.data *= self.mask[name] > 0\n"
      ],
      "metadata": {
        "id": "WhDkVFQyZm6p"
      },
      "execution_count": null,
      "outputs": []
    },
    {
      "cell_type": "code",
      "source": [
        "# Initial Trial of Computing Empirical NTK\n",
        "#establish initial model\n",
        "pruning_fraction = 1/2\n",
        "width = 10000\n",
        "model = Model(width)\n",
        "mask = {}\n",
        "for name, param in model.named_parameters():\n",
        "  if name == \"fc_layers.0.weight\":\n",
        "    mask[name] = torch.ones(param.shape)\n",
        "  else:\n",
        "    mask[name] = torch.from_numpy(np.random.choice([0,1], param.shape, p=[pruning_fraction, 1 - pruning_fraction]))\n",
        "\n",
        "pruned_model = Pruned_Model(width, mask, pruning_fraction)\n",
        "\n",
        "# establish data set\n",
        "np.random.seed(1)\n",
        "x = np.random.random(10)\n",
        "x = x / la.norm(x)\n",
        "x = torch.from_numpy(x).float()\n",
        "y = np.random.random(10)\n",
        "y = y / la.norm(y)\n",
        "y = torch.from_numpy(y).float()\n",
        "print(np.inner(x, y))\n",
        "\n",
        "# compute model grad x\n",
        "model.zero_grad()\n",
        "out_x = model(x)\n",
        "out_x.backward()\n",
        "\n",
        "inner_model = 0\n",
        "grad_model_x = []\n",
        "for m in model.modules():\n",
        "  if isinstance(m, nn.Linear):\n",
        "    grad_model_x.append(torch.clone(m.weight.grad).detach())\n",
        "\n",
        "# compute model grad y\n",
        "model.zero_grad()\n",
        "out_y = model(y)\n",
        "out_y.backward()\n",
        "\n",
        "grad_model_y = []\n",
        "for m in model.modules():\n",
        "  if isinstance(m, nn.Linear):\n",
        "    grad_model_y.append(torch.clone(m.weight.grad).detach())\n",
        "# compute ntk of full model\n",
        "for i in range(len(grad_model_x)):\n",
        "  inner_model += torch.sum(grad_model_x[i] * grad_model_y[i])\n",
        "print(inner_model)\n",
        "\n",
        "# compute pruned model x\n",
        "pruned_model.zero_grad()\n",
        "pruned_out_x = pruned_model(x)\n",
        "pruned_out_x.backward()\n",
        "inner_pruned = 0\n",
        "grad_pruned_x = []\n",
        "for m in pruned_model.named_modules():\n",
        "  if isinstance(m[1], nn.Linear):\n",
        "    grad_pruned_x.append((torch.clone(m[1].weight.grad).detach() * ( mask[m[0] + \".weight\"] > 0))) \n",
        "\n",
        "# compute pruned model y\n",
        "pruned_model.zero_grad()\n",
        "pruned_out_y = pruned_model(y)\n",
        "pruned_out_y.backward()\n",
        "inner_pruned = 0\n",
        "grad_pruned_y = []\n",
        "for m in pruned_model.named_modules():\n",
        "  if isinstance(m[1], nn.Linear):\n",
        "    grad_pruned_y.append((torch.clone(m[1].weight.grad).detach() * ( mask[m[0] + \".weight\"] > 0))) \n",
        "\n",
        "# compute pruned model ntk\n",
        "for i in range(len(grad_model_x)):\n",
        "  inner_pruned += torch.sum(grad_pruned_x[i] * grad_pruned_y[i])\n",
        "print(inner_pruned)"
      ],
      "metadata": {
        "id": "-b_Qf89h1-3b"
      },
      "execution_count": null,
      "outputs": []
    },
    {
      "cell_type": "code",
      "source": [
        "# Study Width and Empirical NTK\n",
        "exponents = list(range(5,14))\n",
        "sample = 64\n",
        "\n",
        "# establish data set\n",
        "np.random.seed(1)\n",
        "x = np.random.random(10)\n",
        "x = x / la.norm(x)\n",
        "x = torch.from_numpy(x).float()\n",
        "y = np.random.random(10)\n",
        "y = y / la.norm(y)\n",
        "y = torch.from_numpy(y).float()\n",
        "print(np.inner(x, y))\n",
        "\n",
        "width_model_inners = []\n",
        "width_pruned_inners = []\n",
        "\n",
        "for exponent in exponents:\n",
        "  width = 2**exponent\n",
        "\n",
        "  model_inners = []\n",
        "  pruned_inners = []\n",
        "  for i in range(sample):\n",
        "    #establish initial model\n",
        "    pruning_fraction = 1/2\n",
        "    model = Model(width)\n",
        "\n",
        "    mask = {}\n",
        "    for name, param in model.named_parameters():\n",
        "      if name == \"fc_layers.0.weight\":\n",
        "        mask[name] = torch.ones(param.shape)\n",
        "      else:\n",
        "        mask[name] = torch.from_numpy(np.random.choice([0,1], param.shape, p=[pruning_fraction, 1 - pruning_fraction]))\n",
        "\n",
        "    pruned_model = Pruned_Model(width, mask, pruning_fraction)\n",
        "\n",
        "    # compute model grad x\n",
        "    model.zero_grad()\n",
        "    out_x = model(x)\n",
        "    out_x.backward()\n",
        "\n",
        "    inner_model = 0\n",
        "    grad_model_x = []\n",
        "    for m in model.modules():\n",
        "      if isinstance(m, nn.Linear):\n",
        "        grad_model_x.append(torch.clone(m.weight.grad).detach())\n",
        "\n",
        "    # compute model grad y\n",
        "    model.zero_grad()\n",
        "    out_y = model(y)\n",
        "    out_y.backward()\n",
        "\n",
        "    grad_model_y = []\n",
        "    for m in model.modules():\n",
        "      if isinstance(m, nn.Linear):\n",
        "        grad_model_y.append(torch.clone(m.weight.grad).detach())\n",
        "    # compute ntk of full model\n",
        "    for i in range(len(grad_model_x)):\n",
        "      inner_model += torch.sum(grad_model_x[i] * grad_model_y[i])\n",
        "    model_inners.append(inner_model)\n",
        "\n",
        "    # compute pruned model x\n",
        "    pruned_model.zero_grad()\n",
        "    pruned_out_x = pruned_model(x)\n",
        "    pruned_out_x.backward()\n",
        "    inner_pruned = 0\n",
        "    grad_pruned_x = []\n",
        "    for m in pruned_model.named_modules():\n",
        "      if isinstance(m[1], nn.Linear):\n",
        "        grad_pruned_x.append((torch.clone(m[1].weight.grad).detach() * ( mask[m[0] + \".weight\"] > 0))) \n",
        "\n",
        "    # compute pruned model y\n",
        "    pruned_model.zero_grad()\n",
        "    pruned_out_y = pruned_model(y)\n",
        "    pruned_out_y.backward()\n",
        "    grad_pruned_y = []\n",
        "    for m in pruned_model.named_modules():\n",
        "      if isinstance(m[1], nn.Linear):\n",
        "        grad_pruned_y.append((torch.clone(m[1].weight.grad).detach() * ( mask[m[0] + \".weight\"] > 0))) \n",
        "\n",
        "    # compute pruned model ntk\n",
        "    for i in range(len(grad_pruned_x)):\n",
        "      inner_pruned += torch.sum(grad_pruned_x[i] * grad_pruned_y[i])\n",
        "    pruned_inners.append(inner_pruned)\n",
        "  width_model_inners.append(model_inners)\n",
        "  width_pruned_inners.append(pruned_inners)\n",
        "\n",
        "width_model_inners = np.array(width_model_inners)\n",
        "width_pruned_inners = np.array(width_pruned_inners)\n",
        "np.save(\"width_model_inners\", width_model_inners)\n",
        "np.save(\"width_pruned_inners\", width_pruned_inners)"
      ],
      "metadata": {
        "colab": {
          "base_uri": "https://localhost:8080/"
        },
        "id": "UXvEHt8Y0o3r",
        "outputId": "0e1628b1-27fe-41bb-8353-389090444e9f"
      },
      "execution_count": null,
      "outputs": [
        {
          "output_type": "stream",
          "name": "stdout",
          "text": [
            "0.7687972\n"
          ]
        }
      ]
    },
    {
      "cell_type": "code",
      "source": [
        "import matplotlib.pyplot as plt\n",
        "\n",
        "plt.plot([f\"2^{i:.0f}\" for i in exponents], np.mean(width_model_inners, axis=1), label=\"Full model\")\n",
        "plt.plot([f\"2^{i:.0f}\" for i in exponents], np.mean(width_pruned_inners, axis=1), label=\"Pruned model\")\n",
        "plt.plot([f\"2^{i:.0f}\" for i in exponents], [2.4287229440232556 for i in exponents], label=\"Theoretically computed NTK\")\n",
        "plt.title(\"Monte Carlo Estimate of NTK\")\n",
        "plt.xlabel(\"Width\")\n",
        "plt.ylabel(\"NTK value\")\n",
        "plt.legend()\n",
        "plt.savefig(\"sample_estimate_of_ntk.pdf\")"
      ],
      "metadata": {
        "colab": {
          "base_uri": "https://localhost:8080/",
          "height": 295
        },
        "id": "L3s2B7n46_uW",
        "outputId": "ba5f2588-62b6-4c9a-84f1-6bc15556464d"
      },
      "execution_count": null,
      "outputs": [
        {
          "output_type": "display_data",
          "data": {
            "image/png": "[encoded data removed]",
            "text/plain": [
              "<Figure size 432x288 with 1 Axes>"
            ]
          },
          "metadata": {
            "needs_background": "light"
          }
        }
      ]
    },
    {
      "cell_type": "code",
      "source": [
        "pruning_fractions = [i / 8 for i in range(8)]\n",
        "sample = 100\n",
        "\n",
        "# establish data set\n",
        "x = np.load(\"x.npy\")\n",
        "x = torch.from_numpy(x).float()\n",
        "y = np.load(\"y.npy\")\n",
        "y = torch.from_numpy(y).float()\n",
        "print(np.inner(x, y))\n",
        "\n",
        "fraction_pruned_inners = []\n",
        "\n",
        "\n",
        "for pruning_fraction in pruning_fractions:\n",
        "  width = int(2**10 / np.sqrt(1 - pruning_fraction))\n",
        "  pruned_inners = []\n",
        "  for i in range(sample):\n",
        "    #establish initial model\n",
        "    \n",
        "    model = Model(width)\n",
        "\n",
        "    mask = {}\n",
        "    for name, param in model.named_parameters():\n",
        "      if name == \"fc_layers.0.weight\":\n",
        "        mask[name] = torch.ones(param.shape)\n",
        "      else:\n",
        "        mask[name] = torch.from_numpy(np.random.choice([0,1], param.shape, p=[pruning_fraction, 1 - pruning_fraction]))\n",
        "\n",
        "    pruned_model = Pruned_Model(width, mask, pruning_fraction)\n",
        "\n",
        "    # compute pruned model x\n",
        "    pruned_model.zero_grad()\n",
        "    pruned_out_x = pruned_model(x)\n",
        "    pruned_out_x.backward()\n",
        "    inner_pruned = 0\n",
        "    grad_pruned_x = []\n",
        "    for m in pruned_model.named_modules():\n",
        "      if isinstance(m[1], nn.Linear):\n",
        "        grad_pruned_x.append((torch.clone(m[1].weight.grad).detach() * ( mask[m[0] + \".weight\"] > 0))) \n",
        "\n",
        "    # compute pruned model y\n",
        "    pruned_model.zero_grad()\n",
        "    pruned_out_y = pruned_model(y)\n",
        "    pruned_out_y.backward()\n",
        "    grad_pruned_y = []\n",
        "    for m in pruned_model.named_modules():\n",
        "      if isinstance(m[1], nn.Linear):\n",
        "        grad_pruned_y.append((torch.clone(m[1].weight.grad).detach() * ( mask[m[0] + \".weight\"] > 0))) \n",
        "\n",
        "    # compute pruned model ntk\n",
        "    for i in range(len(grad_pruned_x)):\n",
        "      inner_pruned += torch.sum(grad_pruned_x[i] * grad_pruned_y[i])\n",
        "    pruned_inners.append(inner_pruned)\n",
        "  fraction_pruned_inners.append(pruned_inners)\n",
        "\n",
        "fraction_pruned_inners = np.array(fraction_pruned_inners)\n",
        "np.save(\"fraction_pruned_inners_sqrt_scale_width\", fraction_pruned_inners)"
      ],
      "metadata": {
        "colab": {
          "base_uri": "https://localhost:8080/"
        },
        "id": "J2Ypg-RpI_cS",
        "outputId": "86d5fa3a-a5f4-42cb-9933-6fb761bfbe49"
      },
      "execution_count": null,
      "outputs": [
        {
          "output_type": "stream",
          "name": "stdout",
          "text": [
            "0.7687972\n"
          ]
        }
      ]
    },
    {
      "cell_type": "code",
      "source": [
        "print(np.mean(np.absolute(fraction_pruned_inners - 2.4287229440232556), axis=1))\n",
        "print(np.var(fraction_pruned_inners, axis=1))\n",
        "# print(fraction_pruned_inners)"
      ],
      "metadata": {
        "colab": {
          "base_uri": "https://localhost:8080/"
        },
        "id": "Nnvhxp3pM_9A",
        "outputId": "967d1c48-e6da-4c8d-9ed4-a48d6e246e2a"
      },
      "execution_count": null,
      "outputs": [
        {
          "output_type": "stream",
          "name": "stdout",
          "text": [
            "[0.23513708 0.23115231 0.23681591 0.2537792  0.22512259 0.26605535\n",
            " 0.2790307  0.35046417 0.35993114 0.48605943]\n",
            "[0.08243147 0.08672915 0.08745161 0.09382075 0.08692919 0.10298052\n",
            " 0.11704929 0.18571487 0.20634703 0.35487553]\n"
          ]
        }
      ]
    },
    {
      "cell_type": "code",
      "source": [
        "import matplotlib.pyplot as plt\n",
        "\n",
        "plt.plot([str(pruning_fraction) for pruning_fraction in pruning_fractions], np.mean(np.absolute(fraction_pruned_inners - 2.4287229440232556), axis=1))\n",
        "\n",
        "plt.title(\"Mean Absolute Deviation from Theoretical NTK\")\n",
        "plt.xlabel(\"Pruning Probability\")\n",
        "plt.ylabel(\"Absolute Deviation\")\n",
        "plt.savefig(\"mean_deviation_sqrt_scale_width.png\")\n",
        "plt.savefig(\"mean_deviation_sqrt_scale_width.pdf\")"
      ],
      "metadata": {
        "colab": {
          "base_uri": "https://localhost:8080/",
          "height": 295
        },
        "id": "C4IbeeZxklmc",
        "outputId": "66cf8422-f346-437e-b514-7697c872568c"
      },
      "execution_count": null,
      "outputs": [
        {
          "output_type": "display_data",
          "data": {
            "image/png": "[encoded data removed]",
            "text/plain": [
              "<Figure size 432x288 with 1 Axes>"
            ]
          },
          "metadata": {
            "needs_background": "light"
          }
        }
      ]
    },
    {
      "cell_type": "code",
      "source": [
        "import numpy as np\n",
        "import matplotlib.pyplot as plt\n",
        "\n",
        "fraction_pruned_inners_linear = np.load(\"fraction_pruned_inners_linear_scale_width.npy\")\n",
        "fraction_pruned_inners_quadratic = np.load(\"fraction_pruned_inners_quadratic_scale_width.npy\")\n",
        "\n",
        "pruning_fractions = [i / 8 for i in range(8)]\n",
        "plt.plot([str(pruning_fraction) for pruning_fraction in pruning_fractions], np.mean(np.absolute(fraction_pruned_inners_linear - 2.4287229440232556), axis=1), label=\"linear scaling\")\n",
        "plt.plot([str(pruning_fraction) for pruning_fraction in pruning_fractions][:5], np.mean(np.absolute(fraction_pruned_inners_quadratic - 2.4287229440232556), axis=1), label=\"qudratic scaling\")\n",
        "\n",
        "plt.title(\"Mean Absolute Deviation from Theoretical NTK\")\n",
        "plt.xlabel(\"Pruning Probability\")\n",
        "plt.ylabel(\"Absolute Deviation\")\n",
        "plt.legend()\n",
        "plt.savefig(\"mean_deviation_linear_quadratic_scale_width.png\")\n",
        "plt.savefig(\"mean_deviation_linear_quadratic_scale_width.pdf\")"
      ],
      "metadata": {
        "colab": {
          "base_uri": "https://localhost:8080/",
          "height": 295
        },
        "id": "bJG6hcCQE5gC",
        "outputId": "8fb7314d-faf7-486e-d1c2-bef5a53f88c7"
      },
      "execution_count": null,
      "outputs": [
        {
          "output_type": "display_data",
          "data": {
            "image/png": "[encoded data removed]",
            "text/plain": [
              "<Figure size 432x288 with 1 Axes>"
            ]
          },
          "metadata": {
            "needs_background": "light"
          }
        }
      ]
    },
    {
      "cell_type": "markdown",
      "source": [
        "# Empirical NTK with Pruning the Input Layer"
      ],
      "metadata": {
        "id": "9_HuuqDtrzVM"
      }
    },
    {
      "cell_type": "code",
      "source": [
        "import torch\n",
        "import torch.nn as nn\n",
        "import torch.nn.functional as F\n",
        "import numpy as np\n",
        "import numpy.linalg as la\n",
        "\n",
        "class Model(nn.Module):\n",
        "    def __init__(self, width):\n",
        "        super(Model, self).__init__()\n",
        "\n",
        "        self.width = width\n",
        "        input_size = 10\n",
        "        layers = [nn.Linear(input_size, width, bias=False), nn.Linear(width,width, bias=False), nn.Linear(width, width, bias=False)]\n",
        "        \n",
        "        self.fc_layers = nn.ModuleList(layers)\n",
        "        self.fc = nn.Linear(width, 1, bias=False)\n",
        "        \n",
        "        for m in self.modules():\n",
        "          if isinstance(m, nn.Conv2d) or isinstance(m, nn.Linear):\n",
        "            nn.init.normal_(m.weight)\n",
        "\n",
        "    def forward(self, x):\n",
        "        for layer in self.fc_layers:\n",
        "            x = torch.sqrt(torch.tensor(2 / self.width)) * F.relu(layer(x))\n",
        "\n",
        "        return self.fc(x)\n",
        "\n",
        "class Pruned_Model(nn.Module):\n",
        "    def __init__(self, width, mask, pruning_fraction):\n",
        "        super(Pruned_Model, self).__init__()\n",
        "\n",
        "        self.width = width\n",
        "        self.mask = mask\n",
        "        self.pruning_fraction = pruning_fraction\n",
        "        input_size = 10\n",
        "        layers = [nn.Linear(input_size, width, bias=False), nn.Linear(width,width, bias=False), nn.Linear(width, width, bias=False)]\n",
        "        \n",
        "        self.fc_layers = nn.ModuleList(layers)\n",
        "        self.fc = nn.Linear(width, 1, bias=False)\n",
        "        \n",
        "        for m in self.modules():\n",
        "          if isinstance(m, nn.Conv2d) or isinstance(m, nn.Linear):\n",
        "            nn.init.normal_(m.weight)\n",
        "        self._apply_mask()\n",
        "\n",
        "    def forward(self, x):\n",
        "        self._apply_zero_one_mask()\n",
        "        for layer in self.fc_layers:\n",
        "            x = torch.sqrt(torch.tensor(2 / (self.width * (1 - self.pruning_fraction)))) * F.relu(layer(x))\n",
        "\n",
        "        return torch.sqrt(torch.tensor(1 / (1 - self.pruning_fraction))) * self.fc(x)\n",
        "\n",
        "    def _apply_mask(self):\n",
        "        for name, param in self.named_parameters():\n",
        "            if name in self.mask:\n",
        "              param.data *= self.mask[name]\n",
        "\n",
        "    def _apply_zero_one_mask(self):\n",
        "        for name, param in self.named_parameters():\n",
        "            if name in self.mask:\n",
        "              param.data *= self.mask[name] > 0\n"
      ],
      "metadata": {
        "id": "_KKNNngRsBmr"
      },
      "execution_count": null,
      "outputs": []
    },
    {
      "cell_type": "code",
      "source": [
        "# Study Width and Empirical NTK\n",
        "exponents = list(range(5,14))\n",
        "sample = 64\n",
        "\n",
        "# establish data set\n",
        "np.random.seed(1)\n",
        "x = np.random.randn(10)\n",
        "x = x / la.norm(x)\n",
        "x = torch.from_numpy(x).float()\n",
        "y = np.random.randn(10)\n",
        "y = y / la.norm(y)\n",
        "y = torch.from_numpy(y).float()\n",
        "print(np.inner(x, y))\n",
        "\n",
        "width_model_inners = []\n",
        "width_pruned_inners = []\n",
        "\n",
        "for exponent in exponents:\n",
        "  width = 2**exponent\n",
        "\n",
        "  model_inners = []\n",
        "  pruned_inners = []\n",
        "  for i in range(sample):\n",
        "    #establish initial model\n",
        "    pruning_fraction = 1/2\n",
        "    model = Model(width)\n",
        "\n",
        "    mask = {}\n",
        "    for name, param in model.named_parameters():\n",
        "      mask[name] = torch.from_numpy(np.random.choice([0,1], param.shape, p=[pruning_fraction, 1 - pruning_fraction]))\n",
        "\n",
        "    pruned_model = Pruned_Model(width, mask, pruning_fraction)\n",
        "\n",
        "    # compute model grad x\n",
        "    model.zero_grad()\n",
        "    out_x = model(x)\n",
        "    out_x.backward()\n",
        "\n",
        "    inner_model = 0\n",
        "    grad_model_x = []\n",
        "    for m in model.modules():\n",
        "      if isinstance(m, nn.Linear):\n",
        "        grad_model_x.append(torch.clone(m.weight.grad).detach())\n",
        "\n",
        "    # compute model grad y\n",
        "    model.zero_grad()\n",
        "    out_y = model(y)\n",
        "    out_y.backward()\n",
        "\n",
        "    grad_model_y = []\n",
        "    for m in model.modules():\n",
        "      if isinstance(m, nn.Linear):\n",
        "        grad_model_y.append(torch.clone(m.weight.grad).detach())\n",
        "    # compute ntk of full model\n",
        "    for i in range(len(grad_model_x)):\n",
        "      inner_model += torch.sum(grad_model_x[i] * grad_model_y[i])\n",
        "    model_inners.append(inner_model)\n",
        "\n",
        "    # compute pruned model x\n",
        "    pruned_model.zero_grad()\n",
        "    pruned_out_x = pruned_model(x)\n",
        "    pruned_out_x.backward()\n",
        "    inner_pruned = 0\n",
        "    grad_pruned_x = []\n",
        "    for m in pruned_model.named_modules():\n",
        "      if isinstance(m[1], nn.Linear):\n",
        "        grad_pruned_x.append((torch.clone(m[1].weight.grad).detach() * ( mask[m[0] + \".weight\"] > 0))) \n",
        "\n",
        "    # compute pruned model y\n",
        "    pruned_model.zero_grad()\n",
        "    pruned_out_y = pruned_model(y)\n",
        "    pruned_out_y.backward()\n",
        "    grad_pruned_y = []\n",
        "    for m in pruned_model.named_modules():\n",
        "      if isinstance(m[1], nn.Linear):\n",
        "        grad_pruned_y.append((torch.clone(m[1].weight.grad).detach() * ( mask[m[0] + \".weight\"] > 0))) \n",
        "\n",
        "    # compute pruned model ntk\n",
        "    for i in range(len(grad_pruned_x)):\n",
        "      inner_pruned += torch.sum(grad_pruned_x[i] * grad_pruned_y[i])\n",
        "    pruned_inners.append(inner_pruned)\n",
        "  width_model_inners.append(model_inners)\n",
        "  width_pruned_inners.append(pruned_inners)\n",
        "\n",
        "width_model_inners = np.array(width_model_inners)\n",
        "width_pruned_inners = np.array(width_pruned_inners)\n",
        "np.save(\"width_model_inners\", width_model_inners)\n",
        "np.save(\"width_all_pruned_inners\", width_pruned_inners)"
      ],
      "metadata": {
        "colab": {
          "base_uri": "https://localhost:8080/"
        },
        "id": "bRUeuKlusPwX",
        "outputId": "c1a99b11-a687-46da-c8b4-bafea477b4d8"
      },
      "execution_count": null,
      "outputs": [
        {
          "output_type": "stream",
          "name": "stdout",
          "text": [
            "0.9999999999999999\n",
            "1.0\n",
            "0.7687972\n"
          ]
        }
      ]
    },
    {
      "cell_type": "code",
      "source": [
        "import matplotlib.pyplot as plt\n",
        "\n",
        "plt.plot([f\"2^{i:.0f}\" for i in exponents], np.mean(width_model_inners, axis=1), label=\"Full model\")\n",
        "plt.plot([f\"2^{i:.0f}\" for i in exponents], np.mean(width_pruned_inners, axis=1), label=\"All Pruned model\")\n",
        "plt.plot([f\"2^{i:.0f}\" for i in exponents], [2.4287229440232556 for i in exponents], label=\"Theoretically computed NTK\")\n",
        "plt.title(\"Monte Carlo Estimate of NTK\")\n",
        "plt.xlabel(\"Width\")\n",
        "plt.ylabel(\"NTK value\")\n",
        "plt.legend()\n",
        "# plt.savefig(\"sample_estimate_of_ntk_all_pruned.pdf\")"
      ],
      "metadata": {
        "colab": {
          "base_uri": "https://localhost:8080/",
          "height": 295
        },
        "id": "VcEBK9iMtjb8",
        "outputId": "4b880142-5eb1-4d4d-9a6e-74dd175277d4"
      },
      "execution_count": null,
      "outputs": [
        {
          "output_type": "display_data",
          "data": {
            "image/png": "[encoded data removed]",
            "text/plain": [
              "<Figure size 432x288 with 1 Axes>"
            ]
          },
          "metadata": {
            "needs_background": "light"
          }
        }
      ]
    }
  ]
}