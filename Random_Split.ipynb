{
 "cells": [
  {
   "cell_type": "code",
   "execution_count": 13,
   "metadata": {},
   "outputs": [
    {
     "name": "stdout",
     "output_type": "stream",
     "text": [
      "The autoreload extension is already loaded. To reload it, use:\n",
      "  %reload_ext autoreload\n"
     ]
    }
   ],
   "source": [
    "%load_ext autoreload"
   ]
  },
  {
   "cell_type": "code",
   "execution_count": 14,
   "metadata": {},
   "outputs": [],
   "source": [
    "%autoreload 2"
   ]
  },
  {
   "cell_type": "code",
   "execution_count": 15,
   "metadata": {},
   "outputs": [],
   "source": [
    "import numpy as np"
   ]
  },
  {
   "cell_type": "code",
   "execution_count": 16,
   "metadata": {},
   "outputs": [],
   "source": [
    "from collections import OrderedDict"
   ]
  },
  {
   "cell_type": "code",
   "execution_count": 17,
   "metadata": {},
   "outputs": [],
   "source": [
    "import matplotlib\n",
    "import matplotlib.pyplot as plt\n",
    "\n",
    "font = {'size'   : 18}\n",
    "matplotlib.rc('font', **font)"
   ]
  },
  {
   "cell_type": "code",
   "execution_count": 18,
   "metadata": {},
   "outputs": [],
   "source": [
    "import os\n",
    "from pathlib import Path"
   ]
  },
  {
   "cell_type": "code",
   "execution_count": 19,
   "metadata": {},
   "outputs": [],
   "source": [
    "os.environ['CUDA_VISIBLE_DEVICES'] = '0'"
   ]
  },
  {
   "cell_type": "code",
   "execution_count": 20,
   "metadata": {},
   "outputs": [],
   "source": [
    "import torch\n",
    "import torch.nn as nn\n",
    "import torch.nn.functional as F"
   ]
  },
  {
   "cell_type": "code",
   "execution_count": 26,
   "metadata": {},
   "outputs": [],
   "source": [
    "from utils import save_state_dict"
   ]
  },
  {
   "cell_type": "code",
   "execution_count": 60,
   "metadata": {},
   "outputs": [],
   "source": [
    "def extract_test_accs_from_log(logfile):\n",
    "    test_accs = []\n",
    "    with open(logfile, 'r') as f:\n",
    "        lines = f.readlines()\n",
    "    for l in lines:\n",
    "        if 'accuracy' in l:\n",
    "            test_accs.append(100.0*float(l.split(',')[-1]))\n",
    "    return test_accs"
   ]
  },
  {
   "cell_type": "code",
   "execution_count": 61,
   "metadata": {},
   "outputs": [],
   "source": [
    "def extract_test_accs_from_replicate(replicate_dir):\n",
    "    levels_dir = [f for f in glob.glob(os.path.join(replicate_dir, 'level_*')) if f.split('_')[-1].isdigit()]\n",
    "    accs = []\n",
    "    for level in range(len(levels_dir)):\n",
    "        accs.append(max(extract_test_accs_from_log(os.path.join(replicate_dir, 'level_{}/main/logger'.format(level)))))\n",
    "    return accs"
   ]
  },
  {
   "cell_type": "code",
   "execution_count": 47,
   "metadata": {},
   "outputs": [],
   "source": [
    "cifar_resnet_20_16_dir = Path(\"/datadrive_c/xiaohan/open_lth_data/lottery_93bc65d66dfa64ffaf2a0ab105433a2c/replicate_1/\")\n",
    "cifar_resnet_20_32_dir = Path(\"/datadrive_c/xiaohan/open_lth_data/lottery_b7773335d251f26316a88e7effb19da8/replicate_1/\")\n",
    "\n",
    "cifar_resnet_20_16to32_rsp_start_from_level_0_dir = Path(\"/datadrive_c/xiaohan/open_lth_data/lottery_b7773335d251f26316a88e7effb19da8/replicate_118/\")\n",
    "cifar_resnet_20_16to32_rsp_start_from_level_10_dir = Path(\"/datadrive_c/xiaohan/open_lth_data/lottery_b7773335d251f26316a88e7effb19da8/replicate_218/\")\n",
    "\n",
    "cifar_resnet_14_16_dir = Path(\"/datadrive_c/xiaohan/open_lth_data/lottery_e0e2dbe02e789b00d38f912bcfdb6b97/replicate_1/\")\n",
    "cifar_resnet_14_32_dir = Path(\"/datadrive_c/xiaohan/open_lth_data/lottery_b33926c9afc6c6667a4437379b7e823c/replicate_1/\")\n",
    "\n",
    "\n",
    "## Rewinding - 500it\n",
    "\n",
    "cifar_resnet_20_16_rw500_dir = Path(\"./lottery_23b644efaef60c49ca88fc5e37e2595a/replicate_1/\")\n",
    "cifar_resnet_20_32_rw500_dir = Path(\"./lottery_e83cd7fb6f734bac485b58acd238bb22/replicate_1/\")\n",
    "\n",
    "cifar_resnet_20_16to32_rw500_rsp_start_from_level_0_dir  = Path(\"./lottery_e83cd7fb6f734bac485b58acd238bb22/replicate_118/\")\n",
    "cifar_resnet_20_16to32_rw500_rsp_start_from_level_6_dir  = Path(\"./lottery_e83cd7fb6f734bac485b58acd238bb22/replicate_119/\")\n",
    "cifar_resnet_20_16to32_rw500_rsp_start_from_level_10_dir = Path(\"./lottery_e83cd7fb6f734bac485b58acd238bb22/replicate_120/\")\n",
    "\n",
    "\n",
    "## Rewinding - 1000it\n",
    "\n",
    "cifar_resnet_20_16_rw1000_dir = Path(\"./lottery_231c88c353aecc912eada550c58eff10/replicate_1/\")\n",
    "cifar_resnet_20_32_rw1000_dir = Path(\"./lottery_0aebeaf1c5129110bc2f91ab9dc99578/replicate_1/\")\n",
    "\n",
    "cifar_resnet_20_16to32_rw1000_rsp_start_from_level_0_dir  = Path(\"./lottery_0aebeaf1c5129110bc2f91ab9dc99578/replicate_118/\")\n",
    "cifar_resnet_20_16to32_rw1000_rsp_start_from_level_6_dir  = Path(\"./lottery_0aebeaf1c5129110bc2f91ab9dc99578/replicate_119/\")\n",
    "cifar_resnet_20_16to32_rw1000_rsp_start_from_level_10_dir = Path(\"./lottery_0aebeaf1c5129110bc2f91ab9dc99578/replicate_120/\")\n",
    "\n",
    "\n",
    "## VGG19\n",
    "\n",
    "cifar_vgg19_32_rw_dir = Path(\"./lottery_edb979b6c106786c89409057251082ea/replicate_1/\")\n",
    "cifar_vgg19_64_rw_dir = Path(\"./lottery_32da8a3ac7d84f9f0dda4fd60265ded3/replicate_1/\")\n",
    "\n",
    "cifar_vgg19_32to64_rw_rsp_start_from_level_0_dir  = Path(\"./lottery_32da8a3ac7d84f9f0dda4fd60265ded3/replicate_118/\")\n",
    "cifar_vgg19_32to64_rw_rsp_start_from_level_8_dir  = Path(\"./lottery_32da8a3ac7d84f9f0dda4fd60265ded3/replicate_119/\")\n",
    "cifar_vgg19_32to64_rw_rsp_start_from_level_11_dir  = Path(\"./lottery_32da8a3ac7d84f9f0dda4fd60265ded3/replicate_120/\")"
   ]
  },
  {
   "cell_type": "code",
   "execution_count": 66,
   "metadata": {},
   "outputs": [
    {
     "name": "stdout",
     "output_type": "stream",
     "text": [
      "94.14\n",
      "93.0\n",
      "93.76\n",
      "92.04\n"
     ]
    }
   ],
   "source": [
    "print(max(extract_test_accs_from_log(cifar_resnet_20_32_rw1000_dir  / 'level_6/main/logger')))\n",
    "print(max(extract_test_accs_from_log(cifar_resnet_20_16to32_rw1000_rsp_start_from_level_6_dir  / 'level_0/main/logger')))\n",
    "print(max(extract_test_accs_from_log(cifar_resnet_20_32_rw1000_dir  / 'level_10/main/logger')))\n",
    "print(max(extract_test_accs_from_log(cifar_resnet_20_16to32_rw1000_rsp_start_from_level_10_dir  / 'level_0/main/logger')))"
   ]
  },
  {
   "cell_type": "code",
   "execution_count": 35,
   "metadata": {},
   "outputs": [],
   "source": [
    "m_20_16_rw_l10 = torch.load(cifar_resnet_20_16_rw_dir / 'level_10/main/mask.pth')\n",
    "m_20_32_rw_l10 = torch.load(cifar_resnet_20_32_rw_dir / 'level_10/main/mask.pth')\n",
    "m_20_16_rw_l6  = torch.load(cifar_resnet_20_16_rw_dir  / 'level_6/main/mask.pth')\n",
    "m_20_32_rw_l6  = torch.load(cifar_resnet_20_32_rw_dir  / 'level_6/main/mask.pth')"
   ]
  },
  {
   "cell_type": "code",
   "execution_count": 48,
   "metadata": {},
   "outputs": [],
   "source": [
    "# Rewinding - 1000\n",
    "m_20_16_rw1000_l10 = torch.load(cifar_resnet_20_16_rw1000_dir / 'level_10/main/mask.pth')\n",
    "m_20_32_rw1000_l10 = torch.load(cifar_resnet_20_32_rw1000_dir / 'level_10/main/mask.pth')\n",
    "m_20_16_rw1000_l6  = torch.load(cifar_resnet_20_16_rw1000_dir  / 'level_6/main/mask.pth')\n",
    "m_20_32_rw1000_l6  = torch.load(cifar_resnet_20_32_rw1000_dir  / 'level_6/main/mask.pth')"
   ]
  },
  {
   "cell_type": "code",
   "execution_count": 39,
   "metadata": {},
   "outputs": [],
   "source": [
    "m_vgg19_w32_rw_l8  = torch.load(cifar_vgg19_32_rw_dir  / 'level_8/main/mask.pth')\n",
    "m_vgg19_w64_rw_l8  = torch.load(cifar_vgg19_64_rw_dir  / 'level_8/main/mask.pth')\n",
    "m_vgg19_w32_rw_l11 = torch.load(cifar_vgg19_32_rw_dir / 'level_11/main/mask.pth')\n",
    "m_vgg19_w64_rw_l11 = torch.load(cifar_vgg19_64_rw_dir / 'level_11/main/mask.pth')"
   ]
  },
  {
   "cell_type": "code",
   "execution_count": 25,
   "metadata": {},
   "outputs": [],
   "source": [
    "rewind_20_16_rw = torch.load(cifar_resnet_20_16_rw_dir / 'level_pretrain/main/model_ep1_it109.pth')\n",
    "rewind_20_32_rw = torch.load(cifar_resnet_20_32_rw_dir / 'level_pretrain/main/model_ep1_it109.pth')"
   ]
  },
  {
   "cell_type": "code",
   "execution_count": 50,
   "metadata": {},
   "outputs": [],
   "source": [
    "# Rewinding - 1000\n",
    "rewind_20_16_rw1000 = torch.load(cifar_resnet_20_16_rw1000_dir / 'level_pretrain/main/model_ep2_it218.pth')\n",
    "rewind_20_32_rw1000 = torch.load(cifar_resnet_20_32_rw1000_dir / 'level_pretrain/main/model_ep2_it218.pth')"
   ]
  },
  {
   "cell_type": "code",
   "execution_count": 40,
   "metadata": {},
   "outputs": [],
   "source": [
    "rewind_vgg19_w32_rw = torch.load(cifar_vgg19_32_rw_dir / 'level_pretrain/main/model_ep0_it100.pth')\n",
    "rewind_vgg19_w64_rw = torch.load(cifar_vgg19_64_rw_dir / 'level_pretrain/main/model_ep0_it100.pth')"
   ]
  },
  {
   "cell_type": "code",
   "execution_count": 27,
   "metadata": {},
   "outputs": [
    {
     "name": "stdout",
     "output_type": "stream",
     "text": [
      "torch.Size([32, 3, 3, 3])\n",
      "torch.Size([32, 32, 3, 3])\n",
      "torch.Size([32, 32, 3, 3])\n",
      "torch.Size([32, 32, 3, 3])\n",
      "torch.Size([32, 32, 3, 3])\n",
      "torch.Size([32, 32, 3, 3])\n",
      "torch.Size([32, 32, 3, 3])\n",
      "torch.Size([64, 32, 3, 3])\n",
      "torch.Size([64, 64, 3, 3])\n",
      "torch.Size([64, 32, 1, 1])\n",
      "torch.Size([64, 64, 3, 3])\n",
      "torch.Size([64, 64, 3, 3])\n",
      "torch.Size([64, 64, 3, 3])\n",
      "torch.Size([64, 64, 3, 3])\n",
      "torch.Size([128, 64, 3, 3])\n",
      "torch.Size([128, 128, 3, 3])\n",
      "torch.Size([128, 64, 1, 1])\n",
      "torch.Size([128, 128, 3, 3])\n",
      "torch.Size([128, 128, 3, 3])\n",
      "torch.Size([128, 128, 3, 3])\n",
      "torch.Size([128, 128, 3, 3])\n",
      "torch.Size([10, 128])\n"
     ]
    }
   ],
   "source": [
    "rewind_20_16to32_rsp = random_split_state_dict(rewind_20_16_rw, rewind_20_32_rw)"
   ]
  },
  {
   "cell_type": "code",
   "execution_count": 51,
   "metadata": {},
   "outputs": [
    {
     "name": "stdout",
     "output_type": "stream",
     "text": [
      "torch.Size([32, 3, 3, 3])\n",
      "torch.Size([32, 32, 3, 3])\n",
      "torch.Size([32, 32, 3, 3])\n",
      "torch.Size([32, 32, 3, 3])\n",
      "torch.Size([32, 32, 3, 3])\n",
      "torch.Size([32, 32, 3, 3])\n",
      "torch.Size([32, 32, 3, 3])\n",
      "torch.Size([64, 32, 3, 3])\n",
      "torch.Size([64, 64, 3, 3])\n",
      "torch.Size([64, 32, 1, 1])\n",
      "torch.Size([64, 64, 3, 3])\n",
      "torch.Size([64, 64, 3, 3])\n",
      "torch.Size([64, 64, 3, 3])\n",
      "torch.Size([64, 64, 3, 3])\n",
      "torch.Size([128, 64, 3, 3])\n",
      "torch.Size([128, 128, 3, 3])\n",
      "torch.Size([128, 64, 1, 1])\n",
      "torch.Size([128, 128, 3, 3])\n",
      "torch.Size([128, 128, 3, 3])\n",
      "torch.Size([128, 128, 3, 3])\n",
      "torch.Size([128, 128, 3, 3])\n",
      "torch.Size([10, 128])\n"
     ]
    }
   ],
   "source": [
    "rewind1000_20_16to32_rsp = random_split_state_dict(rewind_20_16_rw1000, rewind_20_32_rw1000)"
   ]
  },
  {
   "cell_type": "code",
   "execution_count": 41,
   "metadata": {},
   "outputs": [
    {
     "name": "stdout",
     "output_type": "stream",
     "text": [
      "torch.Size([64, 3, 3, 3])\n",
      "torch.Size([64, 64, 3, 3])\n",
      "torch.Size([128, 64, 3, 3])\n",
      "torch.Size([128, 128, 3, 3])\n",
      "torch.Size([256, 128, 3, 3])\n",
      "torch.Size([256, 256, 3, 3])\n",
      "torch.Size([256, 256, 3, 3])\n",
      "torch.Size([256, 256, 3, 3])\n",
      "torch.Size([512, 256, 3, 3])\n",
      "torch.Size([512, 512, 3, 3])\n",
      "torch.Size([512, 512, 3, 3])\n",
      "torch.Size([512, 512, 3, 3])\n",
      "torch.Size([512, 512, 3, 3])\n",
      "torch.Size([512, 512, 3, 3])\n",
      "torch.Size([512, 512, 3, 3])\n",
      "torch.Size([512, 512, 3, 3])\n",
      "torch.Size([10, 512])\n"
     ]
    }
   ],
   "source": [
    "rewind_vgg19_w32to64_rw_rsp = random_split_state_dict(rewind_vgg19_w32_rw, rewind_vgg19_w64_rw)"
   ]
  },
  {
   "cell_type": "code",
   "execution_count": 31,
   "metadata": {},
   "outputs": [],
   "source": [
    "save_state_dict(rewind_20_16to32_rsp, cifar_resnet_20_16to32_rw_rsp_start_from_level_0_dir / 'level_pretrain/main/model_ep1_it109.pth')\n",
    "save_state_dict(rewind_20_16to32_rsp, cifar_resnet_20_16to32_rw_rsp_start_from_level_0_dir / 'level_0/main/model_ep1_it109.pth')\n",
    "\n",
    "save_state_dict(rewind_20_16to32_rsp, cifar_resnet_20_16to32_rw_rsp_start_from_level_6_dir / 'level_pretrain/main/model_ep1_it109.pth')\n",
    "save_state_dict(rewind_20_16to32_rsp, cifar_resnet_20_16to32_rw_rsp_start_from_level_6_dir / 'level_0/main/model_ep1_it109.pth')\n",
    "\n",
    "save_state_dict(rewind_20_16to32_rsp, cifar_resnet_20_16to32_rw_rsp_start_from_level_10_dir / 'level_pretrain/main/model_ep1_it109.pth')\n",
    "save_state_dict(rewind_20_16to32_rsp, cifar_resnet_20_16to32_rw_rsp_start_from_level_10_dir / 'level_0/main/model_ep1_it109.pth')"
   ]
  },
  {
   "cell_type": "code",
   "execution_count": 55,
   "metadata": {},
   "outputs": [],
   "source": [
    "# rewinding - 1,000it\n",
    "save_state_dict(rewind1000_20_16to32_rsp, cifar_resnet_20_16to32_rw1000_rsp_start_from_level_0_dir / 'level_pretrain/main/model_ep2_it218.pth')\n",
    "# save_state_dict(rewind_20_16to32_rsp, cifar_resnet_20_16to32_rw_rsp_start_from_level_0_dir / 'level_0/main/model_ep2_it218.pth')\n",
    "\n",
    "save_state_dict(rewind1000_20_16to32_rsp, cifar_resnet_20_16to32_rw1000_rsp_start_from_level_6_dir / 'level_pretrain/main/model_ep2_it218.pth')\n",
    "# save_state_dict(rewind_20_16to32_rsp, cifar_resnet_20_16to32_rw_rsp_start_from_level_6_dir / 'level_0/main/model_ep2_it218.pth')\n",
    "\n",
    "save_state_dict(rewind1000_20_16to32_rsp, cifar_resnet_20_16to32_rw1000_rsp_start_from_level_10_dir / 'level_pretrain/main/model_ep2_it218.pth')\n",
    "# save_state_dict(rewind_20_16to32_rsp, cifar_resnet_20_16to32_rw_rsp_start_from_level_10_dir / 'level_0/main/model_ep2_it218.pth')"
   ]
  },
  {
   "cell_type": "code",
   "execution_count": 42,
   "metadata": {},
   "outputs": [],
   "source": [
    "save_state_dict(rewind_vgg19_w32to64_rw_rsp, cifar_vgg19_32to64_rw_rsp_start_from_level_0_dir / 'level_pretrain/main/model_ep0_it100.pth')\n",
    "save_state_dict(rewind_vgg19_w32to64_rw_rsp, cifar_vgg19_32to64_rw_rsp_start_from_level_0_dir / 'level_0/main/model_ep0_it100.pth')\n",
    "save_state_dict(rewind_vgg19_w32to64_rw_rsp, cifar_vgg19_32to64_rw_rsp_start_from_level_0_dir / 'level_0/main/model_ep160_it0.pth')"
   ]
  },
  {
   "cell_type": "code",
   "execution_count": 43,
   "metadata": {},
   "outputs": [],
   "source": [
    "save_state_dict(rewind_vgg19_w32to64_rw_rsp, cifar_vgg19_32to64_rw_rsp_start_from_level_8_dir / 'level_pretrain/main/model_ep0_it100.pth')\n",
    "save_state_dict(rewind_vgg19_w32to64_rw_rsp, cifar_vgg19_32to64_rw_rsp_start_from_level_8_dir / 'level_0/main/model_ep0_it100.pth')\n",
    "save_state_dict(rewind_vgg19_w32to64_rw_rsp, cifar_vgg19_32to64_rw_rsp_start_from_level_8_dir / 'level_0/main/model_ep160_it0.pth')"
   ]
  },
  {
   "cell_type": "code",
   "execution_count": 44,
   "metadata": {},
   "outputs": [],
   "source": [
    "save_state_dict(rewind_vgg19_w32to64_rw_rsp, cifar_vgg19_32to64_rw_rsp_start_from_level_11_dir / 'level_pretrain/main/model_ep0_it100.pth')\n",
    "save_state_dict(rewind_vgg19_w32to64_rw_rsp, cifar_vgg19_32to64_rw_rsp_start_from_level_11_dir / 'level_0/main/model_ep0_it100.pth')\n",
    "save_state_dict(rewind_vgg19_w32to64_rw_rsp, cifar_vgg19_32to64_rw_rsp_start_from_level_11_dir / 'level_0/main/model_ep160_it0.pth')"
   ]
  },
  {
   "cell_type": "code",
   "execution_count": 36,
   "metadata": {},
   "outputs": [],
   "source": [
    "m_20_16to32_rw500_rsp_l6  = replicate_mask_state_dict(m_20_16_rw_l6 , m_20_32_rw_l6)\n",
    "m_20_16to32_rw500_rsp_l10 = replicate_mask_state_dict(m_20_16_rw_l10, m_20_32_rw_l10)"
   ]
  },
  {
   "cell_type": "code",
   "execution_count": 37,
   "metadata": {},
   "outputs": [],
   "source": [
    "save_state_dict(m_20_16to32_rsp_l6,  cifar_resnet_20_16to32_rw_rsp_start_from_level_6_dir  / 'level_6/main/mask.pth')\n",
    "save_state_dict(m_20_16to32_rsp_l10, cifar_resnet_20_16to32_rw_rsp_start_from_level_10_dir / 'level_10/main/mask.pth')"
   ]
  },
  {
   "cell_type": "code",
   "execution_count": 53,
   "metadata": {},
   "outputs": [],
   "source": [
    "m_20_16to32_rw1000_rsp_l6  = replicate_mask_state_dict(m_20_16_rw1000_l6 , m_20_32_rw1000_l6)\n",
    "m_20_16to32_rw1000_rsp_l10 = replicate_mask_state_dict(m_20_16_rw1000_l10, m_20_32_rw1000_l10)"
   ]
  },
  {
   "cell_type": "code",
   "execution_count": 54,
   "metadata": {},
   "outputs": [],
   "source": [
    "save_state_dict(m_20_16to32_rw1000_rsp_l6 , cifar_resnet_20_16to32_rw1000_rsp_start_from_level_6_dir  / 'level_0/main/mask.pth')\n",
    "save_state_dict(m_20_16to32_rw1000_rsp_l10, cifar_resnet_20_16to32_rw1000_rsp_start_from_level_10_dir / 'level_0/main/mask.pth')"
   ]
  },
  {
   "cell_type": "code",
   "execution_count": 45,
   "metadata": {},
   "outputs": [],
   "source": [
    "m_vgg19_w32to64_rw_rsp_l8 = replicate_mask_state_dict(m_vgg19_w32_rw_l8, m_vgg19_w64_rw_l8)\n",
    "m_vgg19_w32to64_rw_rsp_l11 = replicate_mask_state_dict(m_vgg19_w32_rw_l11, m_vgg19_w64_rw_l11)"
   ]
  },
  {
   "cell_type": "code",
   "execution_count": 46,
   "metadata": {},
   "outputs": [],
   "source": [
    "save_state_dict(m_vgg19_w32to64_rw_rsp_l8,  cifar_vgg19_32to64_rw_rsp_start_from_level_8_dir  / 'level_8/main/mask.pth')\n",
    "save_state_dict(m_vgg19_w32to64_rw_rsp_l11, cifar_vgg19_32to64_rw_rsp_start_from_level_11_dir / 'level_11/main/mask.pth')"
   ]
  },
  {
   "cell_type": "code",
   "execution_count": 10,
   "metadata": {},
   "outputs": [],
   "source": [
    "def random_split_state_dict(parent, child):\n",
    "    assert isinstance(parent, OrderedDict) and isinstance(child, OrderedDict)\n",
    "    out = OrderedDict()\n",
    "    for k in parent.keys():\n",
    "        assert k in child\n",
    "        p = parent[k]\n",
    "        c = child[k]\n",
    "        if 'bn' in k or 'running' in k or 'num' in k or p.dim() <= 1:\n",
    "            out[k] = c.clone()\n",
    "            continue\n",
    "        new = c.clone()\n",
    "        p_od, p_id = p.shape[0], p.shape[1]\n",
    "        c_od, c_id = c.shape[0], c.shape[1]\n",
    "        print(c.shape)\n",
    "\n",
    "        passive_split = c_id > p_id\n",
    "        if passive_split:\n",
    "            assert c_id == 2 * p_id  # we can only process splitting by 2x now\n",
    "            new.data[:p_od, :p_id, ...] = p.data.clone()\n",
    "            new.data[:p_od, p_id:, ...] = p.data.clone()\n",
    "            new.data /= 2.0\n",
    "\n",
    "        active_split = c_od > p_od\n",
    "        if active_split:\n",
    "            assert c_od == 2 * p_od  # we can only process splitting by 2x now\n",
    "            device = c.get_device()\n",
    "            delta1 = F.normalize(torch.randn(p_od, c_id, c.shape[-2], c.shape[-1]).to(device), p=2, dim=-1)\n",
    "            delta2 = F.normalize(torch.randn(p_od, c_id, c.shape[-2], c.shape[-1]).to(device), p=2, dim=-1)\n",
    "            delta1 *= 1e-2\n",
    "            delta2 *= 1e-2\n",
    "            \n",
    "            if not passive_split:\n",
    "                new.data[:p_od, :p_id, ...] = p.data.clone()\n",
    "            new.data[p_od:, ...] = new[:p_od, ...].data.clone()\n",
    "            new.data[:p_od, ...] += delta1\n",
    "            new.data[p_od:, ...] -= delta2\n",
    "        \n",
    "        out[k] = new\n",
    "    return out"
   ]
  },
  {
   "cell_type": "code",
   "execution_count": 34,
   "metadata": {},
   "outputs": [],
   "source": [
    "def replicate_mask_state_dict(mask_source, target_model):\n",
    "    out = OrderedDict()\n",
    "    for (k1,v1), (k2,v2) in zip(mask_source.items(), target_model.items()):\n",
    "#     if 'fc' in k1:\n",
    "#         output[k1] = v2\n",
    "#     else:\n",
    "        repeats = [int(v2.shape[i] / v1.shape[i]) for i in range(len(v1.shape))]\n",
    "        with torch.no_grad():\n",
    "            out[k1] = v1.repeat(*repeats)\n",
    "    return out"
   ]
  },
  {
   "cell_type": "code",
   "execution_count": null,
   "metadata": {},
   "outputs": [],
   "source": [
    "for (k1,v1), (k2,v2) in zip(m_20_16_l3.items(), m_20_32_l3.items()):\n",
    "    if 'fc' in k1:\n",
    "        m_20_16to32_l3[k1] = v2\n",
    "    else:\n",
    "        repeats = [int(v2.shape[i] / v1.shape[i]) for i in range(len(v1.shape))]\n",
    "        with torch.no_grad():\n",
    "            m_20_16to32_l3[k1] = v1.repeat(*repeats)"
   ]
  },
  {
   "cell_type": "code",
   "execution_count": null,
   "metadata": {},
   "outputs": [],
   "source": []
  }
 ],
 "metadata": {
  "kernelspec": {
   "display_name": "Python 3",
   "language": "python",
   "name": "python3"
  },
  "language_info": {
   "codemirror_mode": {
    "name": "ipython",
    "version": 3
   },
   "file_extension": ".py",
   "mimetype": "text/x-python",
   "name": "python",
   "nbconvert_exporter": "python",
   "pygments_lexer": "ipython3",
   "version": "3.8.8"
  }
 },
 "nbformat": 4,
 "nbformat_minor": 4
}
